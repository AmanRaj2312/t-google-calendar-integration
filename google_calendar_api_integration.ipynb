{
 "cells": [
  {
   "attachments": {},
   "cell_type": "markdown",
   "metadata": {},
   "source": [
    "# Integrating Google Calendar API in Python Projects\n",
    "\n",
    "![](http://chittagongit.com/download/229209)\n",
    "\n",
    "- [Google Calendar](https://calendar.google.com)\n",
    "\n",
    "- [Google Calendar API](https://developers.google.com/calendar/)\n",
    "\n",
    "- [Google Developers Console](https://console.developers.google.com/)\n",
    "\n",
    "- [Google Calendar API Scopes](https://developers.google.com/calendar/auth)\n",
    "\n",
    "- [Google Calendar API Reference](https://developers.google.com/calendar/v3/reference/)"
   ]
  },
  {
   "attachments": {},
   "cell_type": "markdown",
   "metadata": {},
   "source": [
    "## Installation\n",
    "\n",
    "```\n",
    "pip install google-api-python-client\n",
    "```"
   ]
  },
  {
   "attachments": {},
   "cell_type": "markdown",
   "metadata": {},
   "source": [
    "## OAuth 2.0 Setup"
   ]
  },
  {
   "cell_type": "code",
   "execution_count": 1,
   "metadata": {},
   "outputs": [],
   "source": [
    "from apiclient.discovery import build\n",
    "from google_auth_oauthlib.flow import InstalledAppFlow"
   ]
  },
  {
   "cell_type": "code",
   "execution_count": 2,
   "metadata": {},
   "outputs": [],
   "source": [
    "scopes = ['https://www.googleapis.com/auth/calendar']"
   ]
  },
  {
   "cell_type": "code",
   "execution_count": null,
   "metadata": {},
   "outputs": [],
   "source": [
    "flow = InstalledAppFlow.from_client_secrets_file(\"client_secret.json\", scopes=scopes)"
   ]
  },
  {
   "cell_type": "code",
   "execution_count": null,
   "metadata": {},
   "outputs": [],
   "source": [
    "credentials = flow.run_console()"
   ]
  },
  {
   "cell_type": "code",
   "execution_count": 3,
   "metadata": {},
   "outputs": [],
   "source": [
    "import pickle"
   ]
  },
  {
   "cell_type": "code",
   "execution_count": null,
   "metadata": {},
   "outputs": [],
   "source": [
    "pickle.dump(credentials, open(\"token.pkl\", \"wb\"))"
   ]
  },
  {
   "cell_type": "code",
   "execution_count": 4,
   "metadata": {},
   "outputs": [],
   "source": [
    "credentials = pickle.load(open(\"token.pkl\", \"rb\"))"
   ]
  },
  {
   "cell_type": "code",
   "execution_count": 5,
   "metadata": {},
   "outputs": [],
   "source": [
    "service = build(\"calendar\", \"v3\", credentials=credentials)"
   ]
  },
  {
   "attachments": {},
   "cell_type": "markdown",
   "metadata": {},
   "source": [
    "## Get My Calendars"
   ]
  },
  {
   "cell_type": "code",
   "execution_count": 6,
   "metadata": {},
   "outputs": [],
   "source": [
    "result = service.calendarList().list().execute()"
   ]
  },
  {
   "cell_type": "code",
   "execution_count": null,
   "metadata": {},
   "outputs": [],
   "source": [
    "result['items'][0]"
   ]
  },
  {
   "attachments": {},
   "cell_type": "markdown",
   "metadata": {},
   "source": [
    "## Get My Calendar Events"
   ]
  },
  {
   "cell_type": "code",
   "execution_count": 8,
   "metadata": {},
   "outputs": [],
   "source": [
    "calendar_id = result['items'][0]['id']"
   ]
  },
  {
   "cell_type": "code",
   "execution_count": 9,
   "metadata": {},
   "outputs": [],
   "source": [
    "result = service.events().list(calendarId=calendar_id, timeZone=\"Asia/Kolkata\").execute()"
   ]
  },
  {
   "cell_type": "code",
   "execution_count": null,
   "metadata": {},
   "outputs": [],
   "source": [
    "result['items'][0]"
   ]
  },
  {
   "attachments": {},
   "cell_type": "markdown",
   "metadata": {},
   "source": [
    "## Create a New Calandar Event"
   ]
  },
  {
   "cell_type": "code",
   "execution_count": 11,
   "metadata": {},
   "outputs": [],
   "source": [
    "from datetime import datetime, timedelta"
   ]
  },
  {
   "cell_type": "code",
   "execution_count": 12,
   "metadata": {},
   "outputs": [],
   "source": [
    "start_time = datetime(2023, 5, 26, 19, 30, 0)\n",
    "end_time = start_time + timedelta(hours=4)\n",
    "timezone = 'Asia/Kolkata'"
   ]
  },
  {
   "cell_type": "code",
   "execution_count": 13,
   "metadata": {},
   "outputs": [],
   "source": [
    "event = {\n",
    "  'summary': 'IPL Final 2023',\n",
    "  'location': 'Hyderabad',\n",
    "  'description': 'MI vs TBD',\n",
    "  'start': {\n",
    "    'dateTime': start_time.strftime(\"%Y-%m-%dT%H:%M:%S\"),\n",
    "    'timeZone': timezone,\n",
    "  },\n",
    "  'end': {\n",
    "    'dateTime': end_time.strftime(\"%Y-%m-%dT%H:%M:%S\"),\n",
    "    'timeZone': timezone,\n",
    "  },\n",
    "  'reminders': {\n",
    "    'useDefault': False,\n",
    "    'overrides': [\n",
    "      {'method': 'email', 'minutes': 24 * 60},\n",
    "      {'method': 'popup', 'minutes': 10},\n",
    "    ],\n",
    "  },\n",
    "}"
   ]
  },
  {
   "cell_type": "code",
   "execution_count": null,
   "metadata": {},
   "outputs": [],
   "source": [
    "service.events().insert(calendarId=calendar_id, body=event).execute()"
   ]
  },
  {
   "attachments": {},
   "cell_type": "markdown",
   "metadata": {},
   "source": [
    "## Utility function\n",
    "\n",
    "```\n",
    "pip install datefinder\n",
    "```"
   ]
  },
  {
   "cell_type": "code",
   "execution_count": 15,
   "metadata": {},
   "outputs": [],
   "source": [
    "import datefinder"
   ]
  },
  {
   "cell_type": "code",
   "execution_count": 16,
   "metadata": {},
   "outputs": [],
   "source": [
    "matches = datefinder.find_dates(\"26 may 9 PM\")"
   ]
  },
  {
   "cell_type": "code",
   "execution_count": null,
   "metadata": {},
   "outputs": [],
   "source": [
    "list(matches)"
   ]
  },
  {
   "cell_type": "code",
   "execution_count": 18,
   "metadata": {},
   "outputs": [],
   "source": [
    "def create_event(start_time_str, summary, duration=1, description=None, location=None):\n",
    "    matches = list(datefinder.find_dates(start_time_str))\n",
    "    if len(matches):\n",
    "        start_time = matches[0]\n",
    "        end_time = start_time + timedelta(hours=duration)\n",
    "    \n",
    "    event = {\n",
    "        'summary': summary,\n",
    "        'location': location,\n",
    "        'description': description,\n",
    "        'start': {\n",
    "            'dateTime': start_time.strftime(\"%Y-%m-%dT%H:%M:%S\"),\n",
    "            'timeZone': 'Asia/Kolkata',\n",
    "        },\n",
    "        'end': {\n",
    "            'dateTime': end_time.strftime(\"%Y-%m-%dT%H:%M:%S\"),\n",
    "            'timeZone': 'Asia/Kolkata',\n",
    "        },\n",
    "        'reminders': {\n",
    "            'useDefault': False,\n",
    "            'overrides': [\n",
    "                {'method': 'email', 'minutes': 24 * 60},\n",
    "                {'method': 'popup', 'minutes': 10},\n",
    "            ],\n",
    "        },\n",
    "    }\n",
    "    return service.events().insert(calendarId='primary', body=event).execute()"
   ]
  },
  {
   "cell_type": "code",
   "execution_count": null,
   "metadata": {},
   "outputs": [],
   "source": [
    "create_event(\"26 may 9 PM\", \"Meeting\")"
   ]
  },
  {
   "cell_type": "code",
   "execution_count": null,
   "metadata": {},
   "outputs": [],
   "source": []
  },
  {
   "cell_type": "code",
   "execution_count": null,
   "metadata": {},
   "outputs": [],
   "source": []
  },
  {
   "cell_type": "code",
   "execution_count": null,
   "metadata": {},
   "outputs": [],
   "source": []
  }
 ],
 "metadata": {
  "kernelspec": {
   "display_name": "Python 3",
   "language": "python",
   "name": "python3"
  },
  "language_info": {
   "codemirror_mode": {
    "name": "ipython",
    "version": 3
   },
   "file_extension": ".py",
   "mimetype": "text/x-python",
   "name": "python",
   "nbconvert_exporter": "python",
   "pygments_lexer": "ipython3",
   "version": "3.6.7"
  }
 },
 "nbformat": 4,
 "nbformat_minor": 2
}
